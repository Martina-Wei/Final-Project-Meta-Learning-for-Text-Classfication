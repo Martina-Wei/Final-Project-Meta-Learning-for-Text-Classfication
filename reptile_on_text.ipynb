{
  "nbformat": 4,
  "nbformat_minor": 0,
  "metadata": {
    "accelerator": "GPU",
    "colab": {
      "name": "reptile on text .ipynb",
      "provenance": [],
      "collapsed_sections": []
    },
    "kernelspec": {
      "display_name": "Python 3",
      "name": "python3"
    },
    "language_info": {
      "name": "python"
    }
  },
  "cells": [
    {
      "cell_type": "code",
      "metadata": {
        "id": "k_fC2joHX5T2"
      },
      "source": [
        "import matplotlib.pyplot as plt\n",
        "import numpy as np\n",
        "import random\n",
        "import tensorflow as tf\n",
        "from tensorflow import keras\n",
        "from tensorflow.keras import layers\n",
        "import tensorflow_datasets as tfds\n",
        "import tensorflow_hub as hub\n",
        "from sklearn.model_selection import train_test_split\n",
        "from sklearn.preprocessing import OneHotEncoder\n",
        "import pandas as pd\n",
        "import re"
      ],
      "execution_count": 1,
      "outputs": []
    },
    {
      "cell_type": "code",
      "metadata": {
        "id": "dq_XP3JZaXHY"
      },
      "source": [
        "learning_rate = 0.003\n",
        "meta_step_size = 0.25\n",
        "\n",
        "inner_batch_size = 25\n",
        "eval_batch_size = 25\n",
        "\n",
        "meta_iters = 1500\n",
        "eval_iters = 5\n",
        "inner_iters = 4\n",
        "\n",
        "eval_interval = 2\n",
        "train_shots = 500\n",
        "shots = 100\n",
        "classes = 3\n"
      ],
      "execution_count": 2,
      "outputs": []
    },
    {
      "cell_type": "code",
      "metadata": {
        "id": "athRgHHpbU4N"
      },
      "source": [
        "embedding = \"https://tfhub.dev/google/nnlm-en-dim50/2\"\n",
        "hub_layer = hub.KerasLayer(embedding, input_shape=[], \n",
        "                           dtype=tf.string, trainable=True)"
      ],
      "execution_count": 3,
      "outputs": []
    },
    {
      "cell_type": "code",
      "metadata": {
        "colab": {
          "base_uri": "https://localhost:8080/"
        },
        "id": "UKKrb3JxbeEq",
        "outputId": "234689a1-e7a5-47b8-dd8e-ef35cc132c2f"
      },
      "source": [
        "model = tf.keras.Sequential()\n",
        "model.add(hub_layer)\n",
        "model.add(tf.keras.layers.Dense(15, activation='relu'))\n",
        "model.add(tf.keras.layers.Dense(8, activation='relu'))\n",
        "model.add(tf.keras.layers.Dense(3, activation = 'softmax'))\n",
        "\n",
        "model.summary()"
      ],
      "execution_count": 4,
      "outputs": [
        {
          "output_type": "stream",
          "text": [
            "Model: \"sequential\"\n",
            "_________________________________________________________________\n",
            "Layer (type)                 Output Shape              Param #   \n",
            "=================================================================\n",
            "keras_layer (KerasLayer)     (None, 50)                48190600  \n",
            "_________________________________________________________________\n",
            "dense (Dense)                (None, 15)                765       \n",
            "_________________________________________________________________\n",
            "dense_1 (Dense)              (None, 8)                 128       \n",
            "_________________________________________________________________\n",
            "dense_2 (Dense)              (None, 3)                 27        \n",
            "=================================================================\n",
            "Total params: 48,191,520\n",
            "Trainable params: 48,191,520\n",
            "Non-trainable params: 0\n",
            "_________________________________________________________________\n"
          ],
          "name": "stdout"
        }
      ]
    },
    {
      "cell_type": "code",
      "metadata": {
        "id": "zh6Cv9pUbg74"
      },
      "source": [
        "model.compile(optimizer='adam',\n",
        "              loss=tf.keras.losses.SparseCategoricalCrossentropy(),\n",
        "              metrics=['accuracy'])"
      ],
      "execution_count": 5,
      "outputs": []
    },
    {
      "cell_type": "code",
      "metadata": {
        "colab": {
          "base_uri": "https://localhost:8080/"
        },
        "id": "FYiaKhsUd7Xn",
        "outputId": "1de189c9-56eb-4099-98f6-6f534e376913"
      },
      "source": [
        "!gdown --id 19YGQcsH5IHCf2AOMn5v6gwsb9cmo1IRf\n",
        "!gdown --id 1An_uo6EU7pFPeedUCOkQNcYTXsM2Bl9n\n",
        "!gdown --id 1abFkFGOl-1Ch-fEzYwBcs12b-Vk_5w-k\n",
        "!gdown --id 1-Qdu-WAuSGAhl5U27xpFRAu7r5EfG5Bh"
      ],
      "execution_count": 6,
      "outputs": [
        {
          "output_type": "stream",
          "text": [
            "Downloading...\n",
            "From: https://drive.google.com/uc?id=19YGQcsH5IHCf2AOMn5v6gwsb9cmo1IRf\n",
            "To: /content/Dataset_IMDB.csv\n",
            "22.1MB [00:00, 83.9MB/s]\n",
            "Downloading...\n",
            "From: https://drive.google.com/uc?id=1An_uo6EU7pFPeedUCOkQNcYTXsM2Bl9n\n",
            "To: /content/financial-news-all-data.csv\n",
            "100% 672k/672k [00:00<00:00, 10.5MB/s]\n",
            "Downloading...\n",
            "From: https://drive.google.com/uc?id=1abFkFGOl-1Ch-fEzYwBcs12b-Vk_5w-k\n",
            "To: /content/labeledTrainData.tsv\n",
            "33.6MB [00:00, 205MB/s]\n",
            "Downloading...\n",
            "From: https://drive.google.com/uc?id=1-Qdu-WAuSGAhl5U27xpFRAu7r5EfG5Bh\n",
            "To: /content/Tweets.csv\n",
            "3.42MB [00:00, 30.2MB/s]\n"
          ],
          "name": "stdout"
        }
      ]
    },
    {
      "cell_type": "code",
      "metadata": {
        "id": "6d-2DV6Ud9Rv"
      },
      "source": [
        "def imdb_to_sentiment(rating):\n",
        "  rating = float(rating)\n",
        "  if rating <0.5:\n",
        "    return 0\n",
        "  elif 0.5 <= rating <= 0.6:\n",
        "    return 1\n",
        "  else: \n",
        "    return 2\n",
        "\n",
        "def sent_to_label(sentiment):\n",
        "  class_names = ['negative', 'neutral', 'positive']\n",
        "  return class_names.index(sentiment)\n",
        "\n",
        "def remove_at(sample):\n",
        "  return re.sub(r\"@\\S+\", \"\", sample)"
      ],
      "execution_count": 7,
      "outputs": []
    },
    {
      "cell_type": "code",
      "metadata": {
        "id": "Dgc0HVwDeDoc"
      },
      "source": [
        "RANDOM_SEED = 42"
      ],
      "execution_count": 8,
      "outputs": []
    },
    {
      "cell_type": "code",
      "metadata": {
        "id": "Bmfap2d3eNwM"
      },
      "source": [
        "def document_reader():\n",
        "  dataframe = []\n",
        "  \n",
        "  # data@1\n",
        "  df = pd.read_csv(\"Dataset_IMDB.csv\")\n",
        "  df['sentiment'] = df.Rating.apply(imdb_to_sentiment)\n",
        "  df = df.rename(columns={'Text': 'Content'})\n",
        "  dataframe.append(df)\n",
        "  # data@2\n",
        "  df = pd.read_csv(\"financial-news-all-data.csv\", encoding = \"cp1252\")\n",
        "  df.columns = ['sentiment_temp', 'content']\n",
        "  df['sentiment'] = df.sentiment_temp.apply(sent_to_label)\n",
        "  df['content'] = df.content.apply(lambda x: x.lower ())\n",
        "  negative_rv = df[df.sentiment_temp=='negative']\n",
        "  negative_rv = negative_rv.reset_index(drop=True)\n",
        "  neutral_rv = df[df.sentiment_temp=='neutral']\n",
        "  neutral_rv = neutral_rv.sample(n=len(negative_rv), random_state=RANDOM_SEED)\n",
        "  neutral_rv = neutral_rv.reset_index(drop=True)\n",
        "  reviews = df[df.sentiment_temp=='positive'].append(negative_rv)\n",
        "  reviews = reviews.append(neutral_rv).reset_index(drop=True)\n",
        "  reviews = reviews.rename(columns={'content': 'Content'})\n",
        "  dataframe.append(reviews)\n",
        "  #data@3\n",
        "  df = pd.read_csv(\"Tweets.csv\")\n",
        "  df['sentiment'] = df.airline_sentiment.apply(sent_to_label)\n",
        "  df['Content'] = df.text.apply(remove_at)\n",
        "  negative_rv = df[df.sentiment==0]\n",
        "  negative_rv = negative_rv.reset_index(drop=True)\n",
        "  neutral_rv = df[df.sentiment==1]\n",
        "  negative_rv = negative_rv.sample(n=len(neutral_rv), random_state=RANDOM_SEED)\n",
        "  neutral_rv = neutral_rv.reset_index(drop=True)\n",
        "  reviews = df[df.sentiment==2].append(negative_rv)\n",
        "  reviews = reviews.append(neutral_rv).reset_index(drop=True)\n",
        "  dataframe.append(reviews)\n",
        "  #\bdata@4\n",
        "  df = pd.read_csv(\"labeledTrainData.tsv\", sep='\\t')\n",
        "  df = df.rename(columns={'review': 'Content'})\n",
        "  dataframe.append(df)\n",
        "\n",
        "  return dataframe\n"
      ],
      "execution_count": 9,
      "outputs": []
    },
    {
      "cell_type": "code",
      "metadata": {
        "id": "MWctmCmpeSTm"
      },
      "source": [
        "optimizer = keras.optimizers.SGD(learning_rate=learning_rate)"
      ],
      "execution_count": 10,
      "outputs": []
    },
    {
      "cell_type": "code",
      "metadata": {
        "id": "a2MUGPsdheNE"
      },
      "source": [
        "ds = document_reader()"
      ],
      "execution_count": 11,
      "outputs": []
    },
    {
      "cell_type": "code",
      "metadata": {
        "id": "dnojr96vhxQI"
      },
      "source": [
        "class Dataset:\n",
        "  def __init__(self, mode = 'Training'):\n",
        "    self.ds = document_reader()\n",
        "    self.data = {}\n",
        "    self.counter = -1\n",
        "    self.training = True if mode == 'Training' else False\n",
        "    self.length = len(self.ds)\n",
        "  \n",
        "  def get_mini_dataset(self, batch_size, shots=100, split=False):\n",
        "    if self.training:\n",
        "      self.counter += 1\n",
        "      self.counter = self.counter%self.length\n",
        "    # else:\n",
        "    #   self.counter = self.length-1\n",
        "    \n",
        "    train_reviews, test_reviews, y_train, y_test =\\\n",
        "    train_test_split(\n",
        "    self.ds[self.counter].Content,\n",
        "    self.ds[self.counter].sentiment,\n",
        "    test_size=shots,\n",
        "    train_size=200,\n",
        "    random_state=RANDOM_SEED\n",
        "    )\n",
        "    # print(len(test_reviews), len(y_test))\n",
        "    y_train = np.array(y_train,dtype=np.float)\n",
        "    y_test = np.array(y_test,dtype=np.float)\n",
        "    train_dataset = tf.data.Dataset.from_tensor_slices((train_reviews, y_train))\n",
        "    test_dataset = tf.data.Dataset.from_tensor_slices((test_reviews, y_test))\n",
        "    train_dataset = train_dataset.shuffle(len(train_reviews)).batch(batch_size)\n",
        "    test_dataset = test_dataset.shuffle(len(test_reviews)).batch(100)\n",
        "    if split:\n",
        "      return train_dataset, test_dataset\n",
        "    return train_dataset\n"
      ],
      "execution_count": 12,
      "outputs": []
    },
    {
      "cell_type": "code",
      "metadata": {
        "id": "hD6siFzBkHjl"
      },
      "source": [
        "train_dataset = Dataset('Training')\n",
        "del train_dataset.ds[3]\n",
        "train_dataset.length = 3\n",
        "test_dataset = Dataset('testing')\n",
        "test_dataset.ds = [test_dataset.ds[3]]\n",
        "test_dataset.length = 1"
      ],
      "execution_count": 13,
      "outputs": []
    },
    {
      "cell_type": "code",
      "metadata": {
        "colab": {
          "base_uri": "https://localhost:8080/"
        },
        "id": "aueETS1TlCmI",
        "outputId": "cfc78a27-aadb-4a4a-940f-10cb959bac28"
      },
      "source": [
        "for i in range(3):\n",
        "  print(train_dataset.ds[i].head())\n",
        "print(test_dataset.ds[0].head())"
      ],
      "execution_count": 14,
      "outputs": [
        {
          "output_type": "stream",
          "text": [
            "      Id                                            Content  ... Rating  sentiment\n",
            "0  29420  In my opinion, a movie reviewer's most importa...  ...    0.1          0\n",
            "1  17219  STARSHIP TROOPERS (director: Paul Verhoeven; c...  ...    0.2          0\n",
            "2  18406  THE SCHOOL OF FLESH (ECOLE DE lA CHAIR, L') (D...  ...    0.2          0\n",
            "3  18648  LOCK, STOCK AND TWO SMOKING BARRELS (director:...  ...    0.2          0\n",
            "4  20021  RUN LOLA RUN (LOLA RENNT)(director/writer: Tom...  ...    0.2          0\n",
            "\n",
            "[5 rows x 5 columns]\n",
            "  sentiment_temp                                            Content  sentiment\n",
            "0       positive  with the new production plant the company woul...          2\n",
            "1       positive  according to the company 's updated strategy f...          2\n",
            "2       positive  financing of aspocomp 's growth aspocomp is ag...          2\n",
            "3       positive  for the last quarter of 2010 , componenta 's n...          2\n",
            "4       positive  in the third quarter of 2010 , net sales incre...          2\n",
            "             tweet_id  ...                                            Content\n",
            "0  570301130888122368  ...   plus you've added commercials to the experien...\n",
            "1  570300616901320704  ...   yes, nearly every time I fly VX this “ear wor...\n",
            "2  570299953286942721  ...                   Well, I didn't…but NOW I DO! :-D\n",
            "3  570295459631263746  ...   it was amazing, and arrived an hour early. Yo...\n",
            "4  570289724453216256  ...   I &lt;3 pretty graphics. so much better than ...\n",
            "\n",
            "[5 rows x 17 columns]\n",
            "       id  sentiment                                            Content\n",
            "0  5814_8          1  With all this stuff going down at the moment w...\n",
            "1  2381_9          1  \\The Classic War of the Worlds\\\" by Timothy Hi...\n",
            "2  7759_3          0  The film starts with a manager (Nicholas Bell)...\n",
            "3  3630_4          0  It must be assumed that those who praised this...\n",
            "4  9495_8          1  Superbly trashy and wondrously unpretentious 8...\n"
          ],
          "name": "stdout"
        }
      ]
    },
    {
      "cell_type": "code",
      "metadata": {
        "colab": {
          "base_uri": "https://localhost:8080/"
        },
        "id": "Buegy8PThjcK",
        "outputId": "f1be0891-6ae8-49b1-e1cd-6626e92d5641"
      },
      "source": [
        "training = []\n",
        "testing = []\n",
        "scores = []\n",
        "for meta_iter in range(meta_iters):\n",
        "  frac_done = meta_iters/meta_iters\n",
        "  cur_meta_step_size = (1 - frac_done) * meta_step_size\n",
        "  old_vars = model.get_weights()\n",
        "  mini_dataset = train_dataset.get_mini_dataset(1)\n",
        "  for text, labels in mini_dataset:\n",
        "    with tf.GradientTape() as tape:\n",
        "      preds = model(text)\n",
        "      loss = keras.losses.sparse_categorical_crossentropy(labels, preds)\n",
        "    grads = tape.gradient(loss, model.trainable_weights)\n",
        "    optimizer.apply_gradients(zip(grads, model.trainable_weights))\n",
        "  new_vars = model.get_weights()\n",
        "\n",
        "  for var in range(len(new_vars)):\n",
        "    new_vars[var] = old_vars[var] + ((new_vars[var] - old_vars[var])* cur_meta_step_size)\n",
        "  model.set_weights(new_vars)\n",
        "  if meta_iter % eval_interval == 0:\n",
        "    accuracies = []\n",
        "    for dataset in (train_dataset, test_dataset):\n",
        "      train_set, test_set = dataset.get_mini_dataset(1, 100, True)\n",
        "      old_vars = model.get_weights()\n",
        "\n",
        "      for text, labels in train_set:\n",
        "        with tf.GradientTape() as tape:\n",
        "          preds = model(text)\n",
        "          loss = keras.losses.sparse_categorical_crossentropy(labels, preds)\n",
        "        grads = tape.gradient(loss, model.trainable_weights)\n",
        "        optimizer.apply_gradients(zip(grads, model.trainable_weights))\n",
        "      for text, lab in test_set:\n",
        "        test_preds = model.predict(text)\n",
        "        test_preds = np.argmax(test_preds, axis=1)\n",
        "        num_correct = sum(test_preds == lab.numpy())\n",
        "        accuracies.append(num_correct/len(test_preds))\n",
        "      model.set_weights(old_vars)\n",
        "    training.append(accuracies[0])\n",
        "    testing.append(accuracies[1])\n",
        "    if meta_iter % 100 == 0:\n",
        "      print(\"batch %d: train=%f test=%f\" % (meta_iter, accuracies[0], accuracies[1]))\n",
        "      # print(\"testing \")\n",
        "      # score = model.evaluate(test_set)\n",
        "      # model.set_weights(old_vars)\n",
        "      # accuracies.append(score)\n",
        "      # scores.append(score)\n",
        "  "
      ],
      "execution_count": 15,
      "outputs": [
        {
          "output_type": "stream",
          "text": [
            "batch 0: train=0.540000 test=0.560000\n",
            "batch 100: train=0.540000 test=0.550000\n",
            "batch 200: train=0.540000 test=0.560000\n",
            "batch 300: train=0.540000 test=0.560000\n",
            "batch 400: train=0.540000 test=0.550000\n",
            "batch 500: train=0.540000 test=0.560000\n",
            "batch 600: train=0.540000 test=0.550000\n",
            "batch 700: train=0.540000 test=0.540000\n",
            "batch 800: train=0.540000 test=0.550000\n",
            "batch 900: train=0.540000 test=0.560000\n",
            "batch 1000: train=0.540000 test=0.550000\n",
            "batch 1100: train=0.540000 test=0.540000\n",
            "batch 1200: train=0.540000 test=0.530000\n",
            "batch 1300: train=0.540000 test=0.550000\n",
            "batch 1400: train=0.540000 test=0.550000\n"
          ],
          "name": "stdout"
        }
      ]
    },
    {
      "cell_type": "code",
      "metadata": {
        "id": "ffiq-nv-WiUG",
        "colab": {
          "base_uri": "https://localhost:8080/",
          "height": 281
        },
        "outputId": "ead92349-86a1-44d9-cb28-340b1a94b4c5"
      },
      "source": [
        "window_length = 50\n",
        "train_s = np.r_[\n",
        "    training[window_length - 1 : 0 : -1], training, training[-1:-window_length:-1]\n",
        "]\n",
        "test_s = np.r_[\n",
        "    testing[window_length - 1 : 0 : -1], testing, testing[-1:-window_length:-1]\n",
        "]\n",
        "w = np.hamming(window_length)\n",
        "train_y = np.convolve(w / w.sum(), train_s, mode=\"valid\")\n",
        "test_y = np.convolve(w / w.sum(), test_s, mode=\"valid\")\n",
        "\n",
        "x = np.arange(0, len(test_y), 1)\n",
        "plt.plot(x, test_y, x, train_y)\n",
        "plt.title('{} shots'.format(train_shots))\n",
        "plt.legend([\"test\", \"train\"])\n",
        "plt.grid()\n",
        "# x = np.arange(0, len(training), 1)\n",
        "# plt.plot(x, training, testing)\n",
        "# plt.legend([\"test\", \"train\"])\n",
        "# plt.title('{} shots'.format(train_shots))\n",
        "# plt.grid()"
      ],
      "execution_count": 16,
      "outputs": [
        {
          "output_type": "display_data",
          "data": {
            "image/png": "[encoded data removed]",
            "text/plain": [
              "<Figure size 432x288 with 1 Axes>"
            ]
          },
          "metadata": {
            "tags": [],
            "needs_background": "light"
          }
        }
      ]
    },
    {
      "cell_type": "code",
      "metadata": {
        "id": "v-9OzmIECK8G"
      },
      "source": [
        ""
      ],
      "execution_count": 16,
      "outputs": []
    }
  ]
}