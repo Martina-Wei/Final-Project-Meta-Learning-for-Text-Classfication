{
  "nbformat": 4,
  "nbformat_minor": 0,
  "metadata": {
    "colab": {
      "name": "glove_emb_keras.ipynb",
      "provenance": [],
      "collapsed_sections": [],
      "toc_visible": true,
      "machine_shape": "hm"
    },
    "kernelspec": {
      "name": "python3",
      "display_name": "Python 3"
    },
    "language_info": {
      "name": "python"
    },
    "accelerator": "GPU"
  },
  "cells": [
    {
      "cell_type": "code",
      "metadata": {
        "id": "v2-HCeFmN4jD"
      },
      "source": [
        "import numpy as np\n",
        "import tensorflow as tf\n",
        "from tensorflow import keras"
      ],
      "execution_count": 1,
      "outputs": []
    },
    {
      "cell_type": "markdown",
      "metadata": {
        "id": "s3WoYM8qMiQl"
      },
      "source": [
        "# Download News Group 20 Dataset"
      ]
    },
    {
      "cell_type": "code",
      "metadata": {
        "colab": {
          "base_uri": "https://localhost:8080/"
        },
        "id": "_X9r4BaXN9GD",
        "outputId": "c67a9fd6-1c0e-4f11-c54e-d83c53a589ea"
      },
      "source": [
        "#download data\n",
        "data_path = keras.utils.get_file(\n",
        "    \"news20.tar.gz\",\n",
        "    \"http://www.cs.cmu.edu/afs/cs.cmu.edu/project/theo-20/www/data/news20.tar.gz\",\n",
        "    untar=True,\n",
        ")"
      ],
      "execution_count": 2,
      "outputs": [
        {
          "output_type": "stream",
          "text": [
            "Downloading data from http://www.cs.cmu.edu/afs/cs.cmu.edu/project/theo-20/www/data/news20.tar.gz\n",
            "17334272/17329808 [==============================] - 19s 1us/step\n"
          ],
          "name": "stdout"
        }
      ]
    },
    {
      "cell_type": "code",
      "metadata": {
        "colab": {
          "base_uri": "https://localhost:8080/"
        },
        "id": "3Rd1cr5TQEsy",
        "outputId": "eb4086ff-a8ed-4737-edd6-6bfabb2e44ce"
      },
      "source": [
        "import os\n",
        "import pathlib\n",
        "\n",
        "data_dir = pathlib.Path(data_path).parent / \"20_newsgroup\"\n",
        "dirnames = os.listdir(data_dir)\n",
        "print(\"Number of directories:\", len(dirnames))\n",
        "print(\"Directory names:\", dirnames)\n",
        "\n",
        "fnames = os.listdir(data_dir / \"comp.graphics\")\n",
        "print(\"Number of files in comp.graphics:\", len(fnames))\n",
        "print(\"Some example filenames:\", fnames[:5])\n"
      ],
      "execution_count": 3,
      "outputs": [
        {
          "output_type": "stream",
          "text": [
            "Number of directories: 20\n",
            "Directory names: ['comp.sys.ibm.pc.hardware', 'talk.politics.mideast', 'misc.forsale', 'comp.windows.x', 'rec.motorcycles', 'sci.crypt', 'rec.sport.hockey', 'talk.politics.guns', 'comp.sys.mac.hardware', 'sci.med', 'sci.electronics', 'sci.space', 'comp.os.ms-windows.misc', 'comp.graphics', 'soc.religion.christian', 'rec.sport.baseball', 'talk.religion.misc', 'talk.politics.misc', 'alt.atheism', 'rec.autos']\n",
            "Number of files in comp.graphics: 1000\n",
            "Some example filenames: ['38764', '38362', '37919', '38587', '38436']\n"
          ],
          "name": "stdout"
        }
      ]
    },
    {
      "cell_type": "markdown",
      "metadata": {
        "id": "uVEv31iSMntR"
      },
      "source": [
        "# Data preprocessing"
      ]
    },
    {
      "cell_type": "code",
      "metadata": {
        "colab": {
          "base_uri": "https://localhost:8080/"
        },
        "id": "dnjAHI0-Qyfa",
        "outputId": "819be8ae-1eea-4268-b941-9cafa0e07c9d"
      },
      "source": [
        "#data preprocessing\n",
        "samples = []\n",
        "labels = []\n",
        "class_names = []\n",
        "class_index = 0\n",
        "for dirname in sorted(os.listdir(data_dir)):\n",
        "    class_names.append(dirname)\n",
        "    dirpath = data_dir / dirname\n",
        "    fnames = os.listdir(dirpath)\n",
        "    print(\"Processing %s, %d files found\" % (dirname, len(fnames)))\n",
        "    for fname in fnames:\n",
        "        fpath = dirpath / fname\n",
        "        f = open(fpath, encoding=\"latin-1\")\n",
        "        content = f.read()\n",
        "        lines = content.split(\"\\n\")\n",
        "        lines = lines[10:]\n",
        "        content = \"\\n\".join(lines)\n",
        "        samples.append(content)\n",
        "        labels.append(class_index)\n",
        "    class_index += 1\n",
        "\n",
        "print(\"Classes:\", class_names)\n",
        "print(\"Number of samples:\", len(samples))\n"
      ],
      "execution_count": 5,
      "outputs": [
        {
          "output_type": "stream",
          "text": [
            "Processing alt.atheism, 1000 files found\n",
            "Processing comp.graphics, 1000 files found\n",
            "Processing comp.os.ms-windows.misc, 1000 files found\n",
            "Processing comp.sys.ibm.pc.hardware, 1000 files found\n",
            "Processing comp.sys.mac.hardware, 1000 files found\n",
            "Processing comp.windows.x, 1000 files found\n",
            "Processing misc.forsale, 1000 files found\n",
            "Processing rec.autos, 1000 files found\n",
            "Processing rec.motorcycles, 1000 files found\n",
            "Processing rec.sport.baseball, 1000 files found\n",
            "Processing rec.sport.hockey, 1000 files found\n",
            "Processing sci.crypt, 1000 files found\n",
            "Processing sci.electronics, 1000 files found\n",
            "Processing sci.med, 1000 files found\n",
            "Processing sci.space, 1000 files found\n",
            "Processing soc.religion.christian, 997 files found\n",
            "Processing talk.politics.guns, 1000 files found\n",
            "Processing talk.politics.mideast, 1000 files found\n",
            "Processing talk.politics.misc, 1000 files found\n",
            "Processing talk.religion.misc, 1000 files found\n",
            "Classes: ['alt.atheism', 'comp.graphics', 'comp.os.ms-windows.misc', 'comp.sys.ibm.pc.hardware', 'comp.sys.mac.hardware', 'comp.windows.x', 'misc.forsale', 'rec.autos', 'rec.motorcycles', 'rec.sport.baseball', 'rec.sport.hockey', 'sci.crypt', 'sci.electronics', 'sci.med', 'sci.space', 'soc.religion.christian', 'talk.politics.guns', 'talk.politics.mideast', 'talk.politics.misc', 'talk.religion.misc']\n",
            "Number of samples: 19997\n"
          ],
          "name": "stdout"
        }
      ]
    },
    {
      "cell_type": "code",
      "metadata": {
        "id": "_qDQ2bVXQ12K"
      },
      "source": [
        "# Shuffle the data\n",
        "seed = 1337\n",
        "rng = np.random.RandomState(seed)\n",
        "rng.shuffle(samples)\n",
        "rng = np.random.RandomState(seed)\n",
        "rng.shuffle(labels)\n",
        "\n",
        "# Extract a training & validation split\n",
        "validation_split = 0.2\n",
        "num_validation_samples = int(validation_split * len(samples))\n",
        "train_samples = samples[:-num_validation_samples]\n",
        "val_samples = samples[-num_validation_samples:]\n",
        "train_labels = labels[:-num_validation_samples]\n",
        "val_labels = labels[-num_validation_samples:]\n"
      ],
      "execution_count": 6,
      "outputs": []
    },
    {
      "cell_type": "code",
      "metadata": {
        "id": "7uDrSh91Q5yf"
      },
      "source": [
        "from tensorflow.keras.layers.experimental.preprocessing import TextVectorization\n",
        "\n",
        "vectorizer = TextVectorization(max_tokens=20000, output_sequence_length=200)\n",
        "text_ds = tf.data.Dataset.from_tensor_slices(train_samples).batch(128)\n",
        "vectorizer.adapt(text_ds)"
      ],
      "execution_count": 7,
      "outputs": []
    },
    {
      "cell_type": "code",
      "metadata": {
        "id": "lNM4W73EQ-tT"
      },
      "source": [
        "voc = vectorizer.get_vocabulary()\n",
        "word_index = dict(zip(voc, range(len(voc))))"
      ],
      "execution_count": 8,
      "outputs": []
    },
    {
      "cell_type": "code",
      "metadata": {
        "colab": {
          "base_uri": "https://localhost:8080/"
        },
        "id": "w9L_VDvrRBvJ",
        "outputId": "04644dc2-d30f-449c-eddd-dda943bbbce3"
      },
      "source": [
        "!wget http://nlp.stanford.edu/data/glove.6B.zip\n",
        "!unzip -q glove.6B.zip"
      ],
      "execution_count": 13,
      "outputs": [
        {
          "output_type": "stream",
          "text": [
            "--2021-05-18 16:23:28--  http://nlp.stanford.edu/data/glove.6B.zip\n",
            "Resolving nlp.stanford.edu (nlp.stanford.edu)... 171.64.67.140\n",
            "Connecting to nlp.stanford.edu (nlp.stanford.edu)|171.64.67.140|:80... connected.\n",
            "HTTP request sent, awaiting response... 302 Found\n",
            "Location: https://nlp.stanford.edu/data/glove.6B.zip [following]\n",
            "--2021-05-18 16:23:28--  https://nlp.stanford.edu/data/glove.6B.zip\n",
            "Connecting to nlp.stanford.edu (nlp.stanford.edu)|171.64.67.140|:443... connected.\n",
            "HTTP request sent, awaiting response... 301 Moved Permanently\n",
            "Location: http://downloads.cs.stanford.edu/nlp/data/glove.6B.zip [following]\n",
            "--2021-05-18 16:23:28--  http://downloads.cs.stanford.edu/nlp/data/glove.6B.zip\n",
            "Resolving downloads.cs.stanford.edu (downloads.cs.stanford.edu)... 171.64.64.22\n",
            "Connecting to downloads.cs.stanford.edu (downloads.cs.stanford.edu)|171.64.64.22|:80... connected.\n",
            "HTTP request sent, awaiting response... 200 OK\n",
            "Length: 862182613 (822M) [application/zip]\n",
            "Saving to: ‘glove.6B.zip.2’\n",
            "\n",
            "glove.6B.zip.2      100%[===================>] 822.24M  5.08MB/s    in 2m 42s  \n",
            "\n",
            "2021-05-18 16:26:10 (5.09 MB/s) - ‘glove.6B.zip.2’ saved [862182613/862182613]\n",
            "\n",
            "replace glove.6B.50d.txt? [y]es, [n]o, [A]ll, [N]one, [r]ename: A\n",
            "A\n"
          ],
          "name": "stdout"
        }
      ]
    },
    {
      "cell_type": "markdown",
      "metadata": {
        "id": "UhMvHa-8MhQq"
      },
      "source": [
        "# GloVe Embedding"
      ]
    },
    {
      "cell_type": "code",
      "metadata": {
        "colab": {
          "base_uri": "https://localhost:8080/"
        },
        "id": "zC2Aj8YVRDnZ",
        "outputId": "604fb182-5ffd-4893-a964-266776a7e3b6"
      },
      "source": [
        "path_to_glove_file = os.path.join(\n",
        "    os.path.expanduser(\"~\"), \"/content/glove.6B.100d.txt\"\n",
        ")\n",
        "\n",
        "embeddings_index = {}\n",
        "with open(path_to_glove_file) as f:\n",
        "    for line in f:\n",
        "        word, coefs = line.split(maxsplit=1)\n",
        "        coefs = np.fromstring(coefs, \"f\", sep=\" \")\n",
        "        embeddings_index[word] = coefs\n",
        "\n",
        "print(\"Found %s word vectors.\" % len(embeddings_index))"
      ],
      "execution_count": 15,
      "outputs": [
        {
          "output_type": "stream",
          "text": [
            "Found 400000 word vectors.\n"
          ],
          "name": "stdout"
        }
      ]
    },
    {
      "cell_type": "code",
      "metadata": {
        "colab": {
          "base_uri": "https://localhost:8080/"
        },
        "id": "VmvTdJHWRGfS",
        "outputId": "de010c5d-cfb2-49a7-97b6-f1d276749eab"
      },
      "source": [
        "num_tokens = len(voc) + 2\n",
        "embedding_dim = 100\n",
        "hits = 0\n",
        "misses = 0\n",
        "\n",
        "# Prepare embedding matrix\n",
        "embedding_matrix = np.zeros((num_tokens, embedding_dim))\n",
        "for word, i in word_index.items():\n",
        "    embedding_vector = embeddings_index.get(word)\n",
        "    if embedding_vector is not None:\n",
        "        # Words not found in embedding index will be all-zeros.\n",
        "        # This includes the representation for \"padding\" and \"OOV\"\n",
        "        embedding_matrix[i] = embedding_vector\n",
        "        hits += 1\n",
        "    else:\n",
        "        misses += 1\n",
        "print(\"Converted %d words (%d misses)\" % (hits, misses))"
      ],
      "execution_count": 17,
      "outputs": [
        {
          "output_type": "stream",
          "text": [
            "Converted 17968 words (2032 misses)\n"
          ],
          "name": "stdout"
        }
      ]
    },
    {
      "cell_type": "markdown",
      "metadata": {
        "id": "Hgd0di9IMu03"
      },
      "source": [
        "# Embedding layer and models"
      ]
    },
    {
      "cell_type": "code",
      "metadata": {
        "id": "fj_ugBgpRkMa"
      },
      "source": [
        "from tensorflow.keras.layers import Embedding\n",
        "\n",
        "embedding_layer = Embedding(\n",
        "    num_tokens,\n",
        "    embedding_dim,\n",
        "    embeddings_initializer=keras.initializers.Constant(embedding_matrix),\n",
        "    trainable=False,\n",
        ")"
      ],
      "execution_count": 18,
      "outputs": []
    },
    {
      "cell_type": "code",
      "metadata": {
        "colab": {
          "base_uri": "https://localhost:8080/"
        },
        "id": "xiJsvmpjRlAc",
        "outputId": "96357317-bfe8-467c-ad7b-5ef6f44f9585"
      },
      "source": [
        "from tensorflow.keras import layers\n",
        "\n",
        "int_sequences_input = keras.Input(shape=(None,), dtype=\"int64\")\n",
        "embedded_sequences = embedding_layer(int_sequences_input)\n",
        "x = layers.Conv1D(128, 5, activation=\"relu\")(embedded_sequences)\n",
        "x = layers.MaxPooling1D(5)(x)\n",
        "x = layers.Conv1D(128, 5, activation=\"relu\")(x)\n",
        "x = layers.MaxPooling1D(5)(x)\n",
        "x = layers.Conv1D(128, 5, activation=\"relu\")(x)\n",
        "x = layers.GlobalMaxPooling1D()(x)\n",
        "x = layers.Dense(128, activation=\"relu\")(x)\n",
        "x = layers.Dropout(0.5)(x)\n",
        "preds = layers.Dense(len(class_names), activation=\"softmax\")(x)\n",
        "model = keras.Model(int_sequences_input, preds)\n",
        "model.summary()\n"
      ],
      "execution_count": 872,
      "outputs": [
        {
          "output_type": "stream",
          "text": [
            "Model: \"model_83\"\n",
            "_________________________________________________________________\n",
            "Layer (type)                 Output Shape              Param #   \n",
            "=================================================================\n",
            "input_84 (InputLayer)        [(None, None)]            0         \n",
            "_________________________________________________________________\n",
            "embedding (Embedding)        (None, None, 100)         2000200   \n",
            "_________________________________________________________________\n",
            "conv1d_249 (Conv1D)          (None, None, 128)         64128     \n",
            "_________________________________________________________________\n",
            "max_pooling1d_166 (MaxPoolin (None, None, 128)         0         \n",
            "_________________________________________________________________\n",
            "conv1d_250 (Conv1D)          (None, None, 128)         82048     \n",
            "_________________________________________________________________\n",
            "max_pooling1d_167 (MaxPoolin (None, None, 128)         0         \n",
            "_________________________________________________________________\n",
            "conv1d_251 (Conv1D)          (None, None, 128)         82048     \n",
            "_________________________________________________________________\n",
            "global_max_pooling1d_83 (Glo (None, 128)               0         \n",
            "_________________________________________________________________\n",
            "dense_166 (Dense)            (None, 128)               16512     \n",
            "_________________________________________________________________\n",
            "dropout_83 (Dropout)         (None, 128)               0         \n",
            "_________________________________________________________________\n",
            "dense_167 (Dense)            (None, 20)                2580      \n",
            "=================================================================\n",
            "Total params: 2,247,516\n",
            "Trainable params: 247,316\n",
            "Non-trainable params: 2,000,200\n",
            "_________________________________________________________________\n"
          ],
          "name": "stdout"
        }
      ]
    },
    {
      "cell_type": "markdown",
      "metadata": {
        "id": "rCw-c1UCM1Gb"
      },
      "source": [
        "# Baseline Training"
      ]
    },
    {
      "cell_type": "code",
      "metadata": {
        "id": "s1BluH2HRrsh"
      },
      "source": [
        "x_train = vectorizer(np.array([[s] for s in train_samples])).numpy()\n",
        "x_val = vectorizer(np.array([[s] for s in val_samples])).numpy()\n",
        "\n",
        "y_train = np.array(train_labels)\n",
        "y_val = np.array(val_labels)"
      ],
      "execution_count": 427,
      "outputs": []
    },
    {
      "cell_type": "code",
      "metadata": {
        "id": "IkaUt1ydUT08"
      },
      "source": [
        "opt = keras.optimizers.Adam(learning_rate=0.001)"
      ],
      "execution_count": 873,
      "outputs": []
    },
    {
      "cell_type": "code",
      "metadata": {
        "colab": {
          "base_uri": "https://localhost:8080/"
        },
        "id": "zcJU8aSFRvHm",
        "outputId": "8e36bf94-5dad-41eb-bf4c-695f854b5713"
      },
      "source": [
        "model.compile(\n",
        "    loss=\"sparse_categorical_crossentropy\", optimizer=opt, metrics=[\"acc\"]\n",
        ")\n",
        "model.fit(x_train, y_train, batch_size=128, epochs=20, validation_data=(x_val, y_val))\n"
      ],
      "execution_count": 874,
      "outputs": [
        {
          "output_type": "stream",
          "text": [
            "Epoch 1/20\n",
            "125/125 [==============================] - 2s 10ms/step - loss: 2.9187 - acc: 0.0770 - val_loss: 2.2135 - val_acc: 0.2203\n",
            "Epoch 2/20\n",
            "125/125 [==============================] - 1s 9ms/step - loss: 2.1700 - acc: 0.2398 - val_loss: 1.5946 - val_acc: 0.4429\n",
            "Epoch 3/20\n",
            "125/125 [==============================] - 1s 8ms/step - loss: 1.6099 - acc: 0.4357 - val_loss: 1.2974 - val_acc: 0.5511\n",
            "Epoch 4/20\n",
            "125/125 [==============================] - 1s 8ms/step - loss: 1.2796 - acc: 0.5509 - val_loss: 1.1823 - val_acc: 0.5914\n",
            "Epoch 5/20\n",
            "125/125 [==============================] - 1s 8ms/step - loss: 1.0758 - acc: 0.6223 - val_loss: 1.0669 - val_acc: 0.6327\n",
            "Epoch 6/20\n",
            "125/125 [==============================] - 1s 8ms/step - loss: 0.9001 - acc: 0.6852 - val_loss: 1.0785 - val_acc: 0.6387\n",
            "Epoch 7/20\n",
            "125/125 [==============================] - 1s 8ms/step - loss: 0.7686 - acc: 0.7312 - val_loss: 1.0312 - val_acc: 0.6524\n",
            "Epoch 8/20\n",
            "125/125 [==============================] - 1s 8ms/step - loss: 0.6594 - acc: 0.7688 - val_loss: 1.0394 - val_acc: 0.6734\n",
            "Epoch 9/20\n",
            "125/125 [==============================] - 1s 8ms/step - loss: 0.5441 - acc: 0.8064 - val_loss: 1.0417 - val_acc: 0.6777\n",
            "Epoch 10/20\n",
            "125/125 [==============================] - 1s 8ms/step - loss: 0.4417 - acc: 0.8477 - val_loss: 1.0853 - val_acc: 0.6759\n",
            "Epoch 11/20\n",
            "125/125 [==============================] - 1s 8ms/step - loss: 0.3707 - acc: 0.8778 - val_loss: 1.0995 - val_acc: 0.6772\n",
            "Epoch 12/20\n",
            "125/125 [==============================] - 1s 8ms/step - loss: 0.3255 - acc: 0.8883 - val_loss: 1.1681 - val_acc: 0.6852\n",
            "Epoch 13/20\n",
            "125/125 [==============================] - 1s 8ms/step - loss: 0.2643 - acc: 0.9098 - val_loss: 1.2464 - val_acc: 0.6819\n",
            "Epoch 14/20\n",
            "125/125 [==============================] - 1s 8ms/step - loss: 0.2523 - acc: 0.9148 - val_loss: 1.2947 - val_acc: 0.6787\n",
            "Epoch 15/20\n",
            "125/125 [==============================] - 1s 8ms/step - loss: 0.2174 - acc: 0.9263 - val_loss: 1.3144 - val_acc: 0.6922\n",
            "Epoch 16/20\n",
            "125/125 [==============================] - 1s 8ms/step - loss: 0.1785 - acc: 0.9393 - val_loss: 1.4351 - val_acc: 0.6827\n",
            "Epoch 17/20\n",
            "125/125 [==============================] - 1s 8ms/step - loss: 0.1560 - acc: 0.9492 - val_loss: 1.3320 - val_acc: 0.6922\n",
            "Epoch 18/20\n",
            "125/125 [==============================] - 1s 8ms/step - loss: 0.1659 - acc: 0.9471 - val_loss: 1.4022 - val_acc: 0.6837\n",
            "Epoch 19/20\n",
            "125/125 [==============================] - 1s 8ms/step - loss: 0.1525 - acc: 0.9484 - val_loss: 1.4960 - val_acc: 0.6797\n",
            "Epoch 20/20\n",
            "125/125 [==============================] - 1s 8ms/step - loss: 0.1456 - acc: 0.9529 - val_loss: 1.5663 - val_acc: 0.6854\n"
          ],
          "name": "stdout"
        },
        {
          "output_type": "execute_result",
          "data": {
            "text/plain": [
              "<tensorflow.python.keras.callbacks.History at 0x7fd2c38579d0>"
            ]
          },
          "metadata": {
            "tags": []
          },
          "execution_count": 874
        }
      ]
    },
    {
      "cell_type": "code",
      "metadata": {
        "colab": {
          "base_uri": "https://localhost:8080/"
        },
        "id": "u-YxC9x-KLPj",
        "outputId": "0a25269c-15c1-4213-ca75-05142b15f801"
      },
      "source": [
        "score = model.evaluate(x=x_val,y=y_val)"
      ],
      "execution_count": 424,
      "outputs": [
        {
          "output_type": "stream",
          "text": [
            "125/125 [==============================] - 0s 2ms/step - loss: 1.3195 - acc: 0.7097\n"
          ],
          "name": "stdout"
        }
      ]
    },
    {
      "cell_type": "markdown",
      "metadata": {
        "id": "2HVdZ5UpfAI-"
      },
      "source": [
        "# Reptile Algorithm"
      ]
    },
    {
      "cell_type": "code",
      "metadata": {
        "id": "ZBcA03gWfDDU"
      },
      "source": [
        "x_train = vectorizer(np.array([[s] for s in train_samples])).numpy()\n",
        "x_val = vectorizer(np.array([[s] for s in val_samples])).numpy()\n",
        "\n",
        "y_train = np.array(train_labels)\n",
        "y_val = np.array(val_labels)"
      ],
      "execution_count": 25,
      "outputs": []
    },
    {
      "cell_type": "code",
      "metadata": {
        "id": "D-DtDoWPhxuI"
      },
      "source": [
        "data_each_class_train = []\n",
        "for i in range(20):\n",
        "    temp = []\n",
        "    for k in range(len(y_train)):\n",
        "      if y_train[k] == i:\n",
        "        temp.append(x_train[k])\n",
        "    temp = np.array(temp)\n",
        "    data_each_class_train.append(temp)"
      ],
      "execution_count": 71,
      "outputs": []
    },
    {
      "cell_type": "code",
      "metadata": {
        "id": "Dd2YLPqyjge8"
      },
      "source": [
        "data_each_class_val = []\n",
        "for i in range(20):\n",
        "    temp = []\n",
        "    for k in range(len(y_val)):\n",
        "      if y_val[k] == i:\n",
        "        temp.append(x_val[k])\n",
        "    temp = np.array(temp)\n",
        "    data_each_class_val.append(temp)"
      ],
      "execution_count": 72,
      "outputs": []
    },
    {
      "cell_type": "code",
      "metadata": {
        "id": "todsQnVsnusA"
      },
      "source": [
        "import random"
      ],
      "execution_count": 231,
      "outputs": []
    },
    {
      "cell_type": "code",
      "metadata": {
        "id": "YZDvBKtggOWk"
      },
      "source": [
        "#create dataset for Reptile, This dataset function is written specificially for News Group 20 dataset.\n",
        "def create_minidataset(inner_batch_size, inner_iters, train_shots, classes, train=True):\n",
        "    chosen_classes = random.sample(range(0, 20), classes)\n",
        "    sampled_data = []\n",
        "    sampled_label = []\n",
        "    if train:\n",
        "      for i in chosen_classes:\n",
        "          index = random.sample(range(0,len(data_each_class_train[i])),train_shots)\n",
        "          for k in index:\n",
        "              sampled_data.append(data_each_class_train[i][k])\n",
        "              sampled_label.append(i)\n",
        "      sampled_data = np.array(sampled_data)\n",
        "      sampled_label = np.array(sampled_label)\n",
        "\n",
        "      dataset = tf.data.Dataset.from_tensor_slices(\n",
        "            (tf.constant(sampled_data), tf.constant(sampled_label)))\n",
        "      dataset = dataset.shuffle(buffer_size=train_shots*classes).batch(inner_batch_size).repeat(inner_iters)\n",
        "      return dataset\n",
        "    \n",
        "    if not train:\n",
        "      #sample from train set\n",
        "      sampled_data_val = []\n",
        "      sampled_label_val = []\n",
        "      for i in chosen_classes:\n",
        "          index = random.sample(range(0,len(data_each_class_train[i])),train_shots+1)\n",
        "          for k in index:\n",
        "              if k != index[-1]:\n",
        "                sampled_data.append(data_each_class_train[i][k])\n",
        "                sampled_label.append(i)\n",
        "              else:\n",
        "                sampled_data_val.append(data_each_class_train[i][k])\n",
        "                sampled_label_val.append(i)\n",
        "\n",
        "      sampled_data = np.array(sampled_data[:-1])\n",
        "      sampled_label = np.array(sampled_label[:-1])\n",
        "\n",
        "      train_dataset = tf.data.Dataset.from_tensor_slices(\n",
        "            (tf.constant(sampled_data), tf.constant(sampled_label)))\n",
        "      train_dataset = train_dataset.shuffle(buffer_size=train_shots*classes).batch(inner_batch_size).repeat(inner_iters)\n",
        "      \n",
        "      #sampled from test set\n",
        "      sampled_data1 = []\n",
        "      sampled_label1 = []\n",
        "      sampled_data_val1 = []\n",
        "      sampled_label_val1 = []\n",
        "      for i in chosen_classes:\n",
        "          index = random.sample(range(0,len(data_each_class_val[i])),train_shots+1)\n",
        "          for k in index:\n",
        "              if k != index[-1]:\n",
        "                sampled_data1.append(data_each_class_val[i][k])\n",
        "                sampled_label1.append(i)\n",
        "              else:\n",
        "                sampled_data_val1.append(data_each_class_val[i][k])\n",
        "                sampled_label_val1.append(i)\n",
        "\n",
        "      sampled_data1 = np.array(sampled_data1[:-1])\n",
        "      sampled_label1 = np.array(sampled_label1[:-1])\n",
        "\n",
        "      train_dataset1 = tf.data.Dataset.from_tensor_slices(\n",
        "            (tf.constant(sampled_data1), tf.constant(sampled_label1)))\n",
        "      train_dataset1 = train_dataset1.shuffle(buffer_size=train_shots*classes).batch(inner_batch_size).repeat(inner_iters)\n",
        "\n",
        "      return train_dataset, tf.constant(sampled_data_val), tf.constant(sampled_label_val), train_dataset1, tf.constant(sampled_data_val1), tf.constant(sampled_label_val1)"
      ],
      "execution_count": 246,
      "outputs": []
    },
    {
      "cell_type": "code",
      "metadata": {
        "colab": {
          "base_uri": "https://localhost:8080/"
        },
        "id": "G9aTIVAmKF1h",
        "outputId": "505a9ce0-6e55-4d35-e447-d69b3733396c"
      },
      "source": [
        "from tensorflow.keras import layers\n",
        "\n",
        "int_sequences_input = keras.Input(shape=(None,), dtype=\"int64\")\n",
        "embedded_sequences = embedding_layer(int_sequences_input)\n",
        "x = layers.Conv1D(128, 5, activation=\"relu\")(embedded_sequences)\n",
        "x = layers.MaxPooling1D(5)(x)\n",
        "x = layers.Conv1D(128, 5, activation=\"relu\")(x)\n",
        "x = layers.MaxPooling1D(5)(x)\n",
        "x = layers.Conv1D(128, 5, activation=\"relu\")(x)\n",
        "x = layers.GlobalMaxPooling1D()(x)\n",
        "x = layers.Dense(128, activation=\"relu\")(x)\n",
        "x = layers.Dropout(0.5)(x)\n",
        "preds = layers.Dense(len(class_names), activation=\"softmax\")(x)\n",
        "model = keras.Model(int_sequences_input, preds)\n",
        "model.summary()"
      ],
      "execution_count": 861,
      "outputs": [
        {
          "output_type": "stream",
          "text": [
            "Model: \"model_81\"\n",
            "_________________________________________________________________\n",
            "Layer (type)                 Output Shape              Param #   \n",
            "=================================================================\n",
            "input_82 (InputLayer)        [(None, None)]            0         \n",
            "_________________________________________________________________\n",
            "embedding (Embedding)        (None, None, 100)         2000200   \n",
            "_________________________________________________________________\n",
            "conv1d_243 (Conv1D)          (None, None, 128)         64128     \n",
            "_________________________________________________________________\n",
            "max_pooling1d_162 (MaxPoolin (None, None, 128)         0         \n",
            "_________________________________________________________________\n",
            "conv1d_244 (Conv1D)          (None, None, 128)         82048     \n",
            "_________________________________________________________________\n",
            "max_pooling1d_163 (MaxPoolin (None, None, 128)         0         \n",
            "_________________________________________________________________\n",
            "conv1d_245 (Conv1D)          (None, None, 128)         82048     \n",
            "_________________________________________________________________\n",
            "global_max_pooling1d_81 (Glo (None, 128)               0         \n",
            "_________________________________________________________________\n",
            "dense_162 (Dense)            (None, 128)               16512     \n",
            "_________________________________________________________________\n",
            "dropout_81 (Dropout)         (None, 128)               0         \n",
            "_________________________________________________________________\n",
            "dense_163 (Dense)            (None, 20)                2580      \n",
            "=================================================================\n",
            "Total params: 2,247,516\n",
            "Trainable params: 247,316\n",
            "Non-trainable params: 2,000,200\n",
            "_________________________________________________________________\n"
          ],
          "name": "stdout"
        }
      ]
    },
    {
      "cell_type": "code",
      "metadata": {
        "id": "9zCFaCXHB4Oy"
      },
      "source": [
        "model.compile(\n",
        "    loss=\"sparse_categorical_crossentropy\", optimizer=opt, metrics=[\"acc\"]\n",
        ")\n",
        "optimizer = keras.optimizers.Adam(learning_rate=learning_rate)"
      ],
      "execution_count": 862,
      "outputs": []
    },
    {
      "cell_type": "code",
      "metadata": {
        "id": "h8WuaZDYYSSw"
      },
      "source": [
        "#Reptile Configuration\n",
        "learning_rate = 0.001\n",
        "meta_step_size = 0.25\n",
        "\n",
        "inner_batch_size = 32\n",
        "eval_batch_size = 32\n",
        "\n",
        "meta_iters = 1500\n",
        "eval_iters = 5\n",
        "inner_iters = 1\n",
        "\n",
        "eval_interval = 1\n",
        "train_shots = 1\n",
        "#shots = 10\n",
        "classes = 5"
      ],
      "execution_count": 863,
      "outputs": []
    },
    {
      "cell_type": "code",
      "metadata": {
        "colab": {
          "base_uri": "https://localhost:8080/"
        },
        "id": "mavWCysde6rB",
        "outputId": "c8ac504e-b7b6-4280-b5b6-3907d3fec0a8"
      },
      "source": [
        "training = []\n",
        "testing = []\n",
        "for meta_iter in range(meta_iters):\n",
        "    frac_done = meta_iter / meta_iters\n",
        "    cur_meta_step_size = (1 - frac_done) * meta_step_size\n",
        "    # Temporarily save the weights from the model.\n",
        "    old_vars = model.get_weights()\n",
        "    # Get a sample from the full dataset.\n",
        "    mini_dataset = create_minidataset(inner_batch_size, inner_iters, train_shots, classes, train=True)\n",
        "\n",
        "    for texts, labels in mini_dataset: #this loop perform SGD k times\n",
        "        with tf.GradientTape() as tape:\n",
        "            preds = model(texts)\n",
        "            loss = keras.losses.sparse_categorical_crossentropy(labels, preds)\n",
        "        grads = tape.gradient(loss, model.trainable_weights)\n",
        "        optimizer.apply_gradients(zip(grads, model.trainable_weights))\n",
        "    new_vars = model.get_weights() #weight here = initial_weight + g1 +g2 +...+ gk\n",
        "    # Perform SGD for the meta step.\n",
        "    for var in range(len(new_vars)):\n",
        "        new_vars[var] = old_vars[var] + (\n",
        "            (new_vars[var] - old_vars[var]) * cur_meta_step_size\n",
        "        )\n",
        "    # After the meta-learning step, reload the newly-trained weights into the model.\n",
        "    model.set_weights(new_vars)\n",
        "    # Evaluation loop\n",
        "    if meta_iter % eval_interval == 0:\n",
        "        accuracies = []\n",
        "      \n",
        "        # Sample a mini dataset from the full dataset.\n",
        "        train_miniset, vt, vl, train_miniset1, vt1, vl1 = create_minidataset(inner_batch_size, inner_iters, train_shots, classes, train=False)\n",
        "        for miniset in ((train_miniset, vt,vl),(train_miniset1, vt1, vl1)):\n",
        "            old_vars = model.get_weights()\n",
        "            # Train on the samples and get the resulting accuracies.\n",
        "            for texts, labels in miniset[0]:\n",
        "                with tf.GradientTape() as tape:\n",
        "                    preds = model(texts)\n",
        "                    loss = keras.losses.sparse_categorical_crossentropy(labels, preds)\n",
        "                grads = tape.gradient(loss, model.trainable_weights)\n",
        "                optimizer.apply_gradients(zip(grads, model.trainable_weights))\n",
        "            test_preds = model.predict(miniset[1])\n",
        "            test_preds = tf.argmax(test_preds,axis=1).numpy()\n",
        "            num_correct = (test_preds == miniset[2].numpy()).sum()\n",
        "            # Reset the weights after getting the evaluation accuracies.\n",
        "            model.set_weights(old_vars)\n",
        "            accuracies.append(num_correct / classes)\n",
        "        training.append(accuracies[0])\n",
        "        testing.append(accuracies[1])\n",
        "        if meta_iter % 100 == 0:\n",
        "            print(\n",
        "                \"batch %d: train=%f test=%f\" % (meta_iter, accuracies[0], accuracies[1])\n",
        "            )"
      ],
      "execution_count": 864,
      "outputs": [
        {
          "output_type": "stream",
          "text": [
            "batch 0: train=0.000000 test=0.000000\n",
            "batch 100: train=0.000000 test=0.200000\n",
            "batch 200: train=0.200000 test=0.200000\n",
            "batch 300: train=0.200000 test=0.400000\n",
            "batch 400: train=0.200000 test=0.200000\n",
            "batch 500: train=0.000000 test=0.400000\n",
            "batch 600: train=0.000000 test=0.000000\n",
            "batch 700: train=0.000000 test=0.000000\n",
            "batch 800: train=0.800000 test=0.800000\n",
            "batch 900: train=0.000000 test=0.600000\n",
            "batch 1000: train=0.000000 test=0.200000\n",
            "batch 1100: train=0.000000 test=0.000000\n",
            "batch 1200: train=0.000000 test=0.600000\n",
            "batch 1300: train=0.400000 test=0.200000\n",
            "batch 1400: train=0.400000 test=0.200000\n"
          ],
          "name": "stdout"
        }
      ]
    },
    {
      "cell_type": "code",
      "metadata": {
        "id": "NnJSvvg5Kt2u"
      },
      "source": [
        "import matplotlib.pyplot as plt\n"
      ],
      "execution_count": 237,
      "outputs": []
    },
    {
      "cell_type": "code",
      "metadata": {
        "colab": {
          "base_uri": "https://localhost:8080/",
          "height": 265
        },
        "id": "sk0VzuBtKqFW",
        "outputId": "5845df03-305e-4771-b967-2ac51907be45"
      },
      "source": [
        "# First, some preprocessing to smooth the training and testing arrays for display.\n",
        "window_length = 100\n",
        "train_s = np.r_[\n",
        "    training[window_length - 1 : 0 : -1], training, training[-1:-window_length:-1]\n",
        "]\n",
        "test_s = np.r_[\n",
        "    testing[window_length - 1 : 0 : -1], testing, testing[-1:-window_length:-1]\n",
        "]\n",
        "w = np.hamming(window_length)\n",
        "train_y = np.convolve(w / w.sum(), train_s, mode=\"valid\")\n",
        "test_y = np.convolve(w / w.sum(), test_s, mode=\"valid\")\n",
        "\n",
        "# Display the training accuracies.\n",
        "x = np.arange(0, len(test_y), 1)\n",
        "plt.plot(x, test_y, x, train_y)\n",
        "plt.legend([\"test\", \"train\"])\n",
        "plt.grid()\n",
        "\n",
        "\n",
        "#plt.savefig('/content/drive/MyDrive/Advanced project/c1_n1_k1m.png',dpi=1000)"
      ],
      "execution_count": 846,
      "outputs": [
        {
          "output_type": "display_data",
          "data": {
            "image/png": "[encoded data removed]",
            "text/plain": [
              "<Figure size 432x288 with 1 Axes>"
            ]
          },
          "metadata": {
            "tags": [],
            "needs_background": "light"
          }
        }
      ]
    }
  ]
}